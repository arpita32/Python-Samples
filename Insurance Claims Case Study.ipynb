{
 "cells": [
  {
   "cell_type": "code",
   "execution_count": 1,
   "id": "a100c2af",
   "metadata": {},
   "outputs": [],
   "source": [
    "# Import the required packages\n",
    "import pandas as pd\n",
    "import numpy as np\n",
    "import datetime as dt\n",
    "import matplotlib.pyplot as plt\n",
    "import seaborn as sns\n",
    "import scipy.stats as stats"
   ]
  },
  {
   "cell_type": "code",
   "execution_count": 2,
   "id": "802b9425",
   "metadata": {},
   "outputs": [],
   "source": [
    "# Read the data\n",
    "claims = pd.read_csv(\"C:/Users/Arpita/Desktop/AnalytixLabs_new/Case Studies/Python Case Studies/Python Foundation Case Study 3 - Insurance Claims Case Study/claims.csv\")\n",
    "demo = pd.read_csv(\"C:/Users/Arpita/Desktop/AnalytixLabs_new/Case Studies/Python Case Studies/Python Foundation Case Study 3 - Insurance Claims Case Study/cust_demographics.csv\")"
   ]
  },
  {
   "cell_type": "code",
   "execution_count": 3,
   "id": "6dee9c62",
   "metadata": {},
   "outputs": [
    {
     "data": {
      "text/plain": [
       "Index(['claim_id', 'customer_id', 'incident_cause', 'claim_date', 'claim_area',\n",
       "       'police_report', 'claim_type', 'claim_amount', 'total_policy_claims',\n",
       "       'fraudulent'],\n",
       "      dtype='object')"
      ]
     },
     "execution_count": 3,
     "metadata": {},
     "output_type": "execute_result"
    }
   ],
   "source": [
    "claims.columns"
   ]
  },
  {
   "cell_type": "code",
   "execution_count": 4,
   "id": "3713cb95",
   "metadata": {},
   "outputs": [
    {
     "data": {
      "text/plain": [
       "Index(['CUST_ID', 'gender', 'DateOfBirth', 'State', 'Contact', 'Segment'], dtype='object')"
      ]
     },
     "execution_count": 4,
     "metadata": {},
     "output_type": "execute_result"
    }
   ],
   "source": [
    "demo.columns"
   ]
  },
  {
   "cell_type": "code",
   "execution_count": 5,
   "id": "3827a103",
   "metadata": {},
   "outputs": [],
   "source": [
    "# Join the datasets\n",
    "claims360 = pd.merge(left = demo, right = claims, how = \"inner\", left_on = \"CUST_ID\", right_on = \"customer_id\", indicator = False)"
   ]
  },
  {
   "cell_type": "code",
   "execution_count": 6,
   "id": "0b18a71b",
   "metadata": {},
   "outputs": [
    {
     "name": "stdout",
     "output_type": "stream",
     "text": [
      "<class 'pandas.core.frame.DataFrame'>\n",
      "Int64Index: 1085 entries, 0 to 1084\n",
      "Data columns (total 16 columns):\n",
      " #   Column               Non-Null Count  Dtype  \n",
      "---  ------               --------------  -----  \n",
      " 0   CUST_ID              1085 non-null   int64  \n",
      " 1   gender               1085 non-null   object \n",
      " 2   DateOfBirth          1085 non-null   object \n",
      " 3   State                1085 non-null   object \n",
      " 4   Contact              1085 non-null   object \n",
      " 5   Segment              1085 non-null   object \n",
      " 6   claim_id             1085 non-null   int64  \n",
      " 7   customer_id          1085 non-null   int64  \n",
      " 8   incident_cause       1085 non-null   object \n",
      " 9   claim_date           1085 non-null   object \n",
      " 10  claim_area           1085 non-null   object \n",
      " 11  police_report        1085 non-null   object \n",
      " 12  claim_type           1085 non-null   object \n",
      " 13  claim_amount         1020 non-null   object \n",
      " 14  total_policy_claims  1075 non-null   float64\n",
      " 15  fraudulent           1085 non-null   object \n",
      "dtypes: float64(1), int64(3), object(12)\n",
      "memory usage: 144.1+ KB\n"
     ]
    }
   ],
   "source": [
    "# Data Info including columns and their datatypes \n",
    "claims360.info()"
   ]
  },
  {
   "cell_type": "code",
   "execution_count": 7,
   "id": "03b0840e",
   "metadata": {},
   "outputs": [
    {
     "data": {
      "text/plain": [
       "17360"
      ]
     },
     "execution_count": 7,
     "metadata": {},
     "output_type": "execute_result"
    }
   ],
   "source": [
    "# Data size\n",
    "claims360.size"
   ]
  },
  {
   "cell_type": "code",
   "execution_count": 8,
   "id": "30a4466f",
   "metadata": {},
   "outputs": [],
   "source": [
    "# Coverting DOB to datetime column type \n",
    "dob = pd.to_datetime(claims360.DateOfBirth, format = \"%d-%b-%y\")\n",
    "dob[(dob.dt.year > 2000 )] = dob - pd.DateOffset(years = 100)\n",
    "claims360.DateOfBirth = dob"
   ]
  },
  {
   "cell_type": "code",
   "execution_count": 9,
   "id": "aa4a1db4",
   "metadata": {},
   "outputs": [],
   "source": [
    "# Conversion function for claim date variable to convert in proper datetime format\n",
    "def date_formats( x ):\n",
    "    if x.find( '/' ) == -1:\n",
    "        dte = pd.to_datetime( x, format = '%d-%m-%Y' )\n",
    "    else:\n",
    "        dte = pd.to_datetime( x, format = '%m/%d/%Y' )\n",
    "        \n",
    "    return dte"
   ]
  },
  {
   "cell_type": "code",
   "execution_count": 10,
   "id": "55c09ea2",
   "metadata": {},
   "outputs": [],
   "source": [
    "claims360.claim_date = claims360.claim_date.apply( date_formats )"
   ]
  },
  {
   "cell_type": "code",
   "execution_count": 11,
   "id": "72d7fd3e",
   "metadata": {},
   "outputs": [
    {
     "name": "stderr",
     "output_type": "stream",
     "text": [
      "C:\\Users\\Arpita\\AppData\\Local\\Temp\\ipykernel_2724\\4153199905.py:2: FutureWarning: The default value of regex will change from True to False in a future version. In addition, single character regular expressions will *not* be treated as literal strings when regex=True.\n",
      "  claims360.claim_amount = claims360.claim_amount.str.replace(\"$\", \"\").astype(float)\n"
     ]
    }
   ],
   "source": [
    "# Claim amount to be converted into float type from object type variable\n",
    "claims360.claim_amount = claims360.claim_amount.str.replace(\"$\", \"\").astype(float)"
   ]
  },
  {
   "cell_type": "code",
   "execution_count": 12,
   "id": "a64d9fd5",
   "metadata": {},
   "outputs": [],
   "source": [
    "# Alert flag for unreported injury claims\n",
    "claims360['Alert_Flag'] = np.where((claims360['claim_type'] == \"Injury only\") & (claims360['police_report'] == \"Unknown\"),1,0)"
   ]
  },
  {
   "cell_type": "code",
   "execution_count": 13,
   "id": "bde5f5eb",
   "metadata": {},
   "outputs": [],
   "source": [
    "# Keeping only latest entries by custid \n",
    "claims360 = claims360.sort_values('claim_date', ascending = True).drop_duplicates(['CUST_ID'], keep = \"last\")"
   ]
  },
  {
   "cell_type": "code",
   "execution_count": 14,
   "id": "f59de9bb",
   "metadata": {},
   "outputs": [
    {
     "data": {
      "text/plain": [
       "(1078, 17)"
      ]
     },
     "execution_count": 14,
     "metadata": {},
     "output_type": "execute_result"
    }
   ],
   "source": [
    "# shape of the data\n",
    "claims360.shape"
   ]
  },
  {
   "cell_type": "code",
   "execution_count": 15,
   "id": "7bd144f9",
   "metadata": {},
   "outputs": [
    {
     "name": "stdout",
     "output_type": "stream",
     "text": [
      "CUST_ID  | int64 |  Missings: 0\n",
      "gender  | object |  Missings: 0\n",
      "DateOfBirth  | datetime64[ns] |  Missings: 0\n",
      "State  | object |  Missings: 0\n",
      "Contact  | object |  Missings: 0\n",
      "Segment  | object |  Missings: 0\n",
      "claim_id  | int64 |  Missings: 0\n",
      "customer_id  | int64 |  Missings: 0\n",
      "incident_cause  | object |  Missings: 0\n",
      "claim_date  | datetime64[ns] |  Missings: 0\n",
      "claim_area  | object |  Missings: 0\n",
      "police_report  | object |  Missings: 0\n",
      "claim_type  | object |  Missings: 0\n",
      "claim_amount  | float64 |  Missings: 65\n",
      "total_policy_claims  | float64 |  Missings: 10\n",
      "fraudulent  | object |  Missings: 0\n",
      "Alert_Flag  | int32 |  Missings: 0\n"
     ]
    }
   ],
   "source": [
    "# Check of missings in each column \n",
    "for var in claims360.columns:\n",
    "    print( var , \" | \" + str(claims360[var].dtype),  \"|  Missings: \" + str(claims360[var].isnull().sum()))   "
   ]
  },
  {
   "cell_type": "code",
   "execution_count": 17,
   "id": "e022667e",
   "metadata": {},
   "outputs": [],
   "source": [
    "# Imputting missings with appropriate values\n",
    "claims360.claim_amount = claims360.claim_amount.fillna(claims360.claim_amount.mean())\n",
    "claims360.total_policy_claims = claims360.total_policy_claims.fillna(claims360.total_policy_claims.mode()[0])"
   ]
  },
  {
   "cell_type": "code",
   "execution_count": 18,
   "id": "99850244",
   "metadata": {},
   "outputs": [],
   "source": [
    "# Calculating age of customers\n",
    "Age = claims360.claim_date.min().year - claims360.DateOfBirth.dt.year"
   ]
  },
  {
   "cell_type": "code",
   "execution_count": 19,
   "id": "95c6fdeb",
   "metadata": {},
   "outputs": [],
   "source": [
    "# Creating age groups\n",
    "claims360['AgeGrp'] = pd.cut(Age , [17,30,60], labels = ['Youth','Adult'])"
   ]
  },
  {
   "cell_type": "code",
   "execution_count": 20,
   "id": "e7a6ffaf",
   "metadata": {},
   "outputs": [
    {
     "data": {
      "text/plain": [
       "Segment\n",
       "Gold        12846.40\n",
       "Platinum    12371.65\n",
       "Silver      12267.86\n",
       "Name: claim_amount, dtype: float64"
      ]
     },
     "execution_count": 20,
     "metadata": {},
     "output_type": "execute_result"
    }
   ],
   "source": [
    "# Average amount claimed by segments\n",
    "claims360.groupby('Segment').claim_amount.mean().round(2)"
   ]
  },
  {
   "cell_type": "code",
   "execution_count": 21,
   "id": "4c5a30ef",
   "metadata": {},
   "outputs": [
    {
     "data": {
      "text/plain": [
       "incident_cause\n",
       "Crime                  655988\n",
       "Driver error          3410190\n",
       "Natural causes        1282457\n",
       "Other causes          3672218\n",
       "Other driver error    3308641\n",
       "Name: claim_amount, dtype: int32"
      ]
     },
     "execution_count": 21,
     "metadata": {},
     "output_type": "execute_result"
    }
   ],
   "source": [
    "# Amount claimed by incident cause 20 days prior to 1st Oct 2018\n",
    "claims360[claims360.claim_date < \"2018-09-11\"].groupby('incident_cause').claim_amount.sum().astype(int)"
   ]
  },
  {
   "cell_type": "code",
   "execution_count": 22,
   "id": "a4d96f6b",
   "metadata": {},
   "outputs": [
    {
     "data": {
      "text/plain": [
       "23"
      ]
     },
     "execution_count": 22,
     "metadata": {},
     "output_type": "execute_result"
    }
   ],
   "source": [
    "# Adults with driver related issues living in TX or DE or AK\n",
    "claims360[(claims360['AgeGrp'] == \"Adult\") & (claims360.State.isin(['TX','DE','AK'])) & \\\n",
    "          (claims360.incident_cause.isin(['Driver error','Other driver error']))].shape[0]"
   ]
  },
  {
   "cell_type": "code",
   "execution_count": 23,
   "id": "ed4ef68d",
   "metadata": {},
   "outputs": [
    {
     "data": {
      "image/png": "[encoded data removed]",
      "text/plain": [
       "<Figure size 360x360 with 1 Axes>"
      ]
     },
     "metadata": {},
     "output_type": "display_data"
    }
   ],
   "source": [
    "# Claimed amount by gender and segment\n",
    "claims360.groupby(['gender','Segment']).claim_amount.sum().astype(int).plot(kind= \"pie\", figsize= (5,5), autopct = '%1.0f%%')\n",
    "plt.title(\"Claimed amount by gender and segment\")\n",
    "plt.show()"
   ]
  },
  {
   "cell_type": "code",
   "execution_count": 55,
   "id": "a7e598b0",
   "metadata": {},
   "outputs": [
    {
     "data": {
      "image/png": "[encoded data removed]",
      "text/plain": [
       "<Figure size 432x288 with 1 Axes>"
      ]
     },
     "metadata": {
      "needs_background": "light"
     },
     "output_type": "display_data"
    }
   ],
   "source": [
    "# Gender with most driver related issues\n",
    "summ0 = claims360[claims360.incident_cause.isin(['Driver error','Other driver error'])].groupby('gender').CUST_ID.count()\n",
    "plt.figure( figsize = (6, 4))\n",
    "plt.bar( x = summ0.index, height = summ0.values , width = 0.5)\n",
    "plt.title(\"Gender with most driver related issues\")\n",
    "plt.show()"
   ]
  },
  {
   "cell_type": "code",
   "execution_count": 48,
   "id": "0f1e9574",
   "metadata": {},
   "outputs": [
    {
     "data": {
      "image/png": "[encoded data removed]",
      "text/plain": [
       "<Figure size 576x216 with 1 Axes>"
      ]
     },
     "metadata": {
      "needs_background": "light"
     },
     "output_type": "display_data"
    }
   ],
   "source": [
    "# Age group with max. fraudulent policy claims\n",
    "summ = claims360[claims360['fraudulent'] == \"Yes\"].groupby(\"AgeGrp\").CUST_ID.count()\n",
    "plt.figure( figsize = (8, 3))\n",
    "plt.title(\"Age group with max. fraudulent policy claims\")\n",
    "sns.barplot( y = summ.index, x = summ.values)\n",
    "plt.show()"
   ]
  },
  {
   "cell_type": "code",
   "execution_count": 26,
   "id": "87a64a9f",
   "metadata": {},
   "outputs": [],
   "source": [
    "# Creating month variable \n",
    "claims360['Month'] = pd.to_datetime(claims360.claim_date, format = \"%Y-%m-%d\").dt.strftime(\"%b\")"
   ]
  },
  {
   "cell_type": "code",
   "execution_count": 27,
   "id": "4f99bedf",
   "metadata": {},
   "outputs": [],
   "source": [
    "# Sort the month values in chronological order\n",
    "sort_order = ['Jan','Feb','Mar','Apr','May','Jun','Jul','Aug','Sep','Oct','Nov','Dec']"
   ]
  },
  {
   "cell_type": "code",
   "execution_count": 28,
   "id": "a5b71b72",
   "metadata": {},
   "outputs": [],
   "source": [
    "claims360['Month'] = pd.CategoricalIndex(claims360['Month'], categories = sort_order, ordered = True)"
   ]
  },
  {
   "cell_type": "code",
   "execution_count": 29,
   "id": "0b41fce4",
   "metadata": {},
   "outputs": [
    {
     "data": {
      "image/png": "[encoded data removed]",
      "text/plain": [
       "<Figure size 720x288 with 1 Axes>"
      ]
     },
     "metadata": {
      "needs_background": "light"
     },
     "output_type": "display_data"
    }
   ],
   "source": [
    "# Total amount claimed month wise\n",
    "plt.xticks( range(0,len(claims360.Month)), claims360.Month)\n",
    "claims360.groupby('Month').claim_amount.sum().plot(figsize = (10,4), linewidth = 2)\n",
    "plt.show()"
   ]
  },
  {
   "cell_type": "code",
   "execution_count": 30,
   "id": "8b0e0ff3",
   "metadata": {},
   "outputs": [
    {
     "data": {
      "image/png": "[encoded data removed]",
      "text/plain": [
       "<Figure size 864x360 with 2 Axes>"
      ]
     },
     "metadata": {
      "needs_background": "light"
     },
     "output_type": "display_data"
    }
   ],
   "source": [
    "# claimed amount by gender and agegrp for fraudulent claims and non-fraudulent claims\n",
    "claims360.groupby(['gender','AgeGrp','fraudulent']).claim_amount.mean().unstack().plot(kind = \"bar\", subplots = True, figsize= (12,5), legend = False)\n",
    "plt.show()"
   ]
  },
  {
   "cell_type": "markdown",
   "id": "dd517398",
   "metadata": {},
   "source": [
    "### Test of amount claimed by females and males"
   ]
  },
  {
   "cell_type": "raw",
   "id": "cb330938",
   "metadata": {},
   "source": [
    "Ho - u1 = u2, Claimed amounts are same for males and females\n",
    "Ha - u1 <> u2, Claimed amounts are different for males and females\n",
    "\n",
    "CI - 95%\n",
    "pvalue - 0.05"
   ]
  },
  {
   "cell_type": "code",
   "execution_count": 31,
   "id": "bc1fcad1",
   "metadata": {},
   "outputs": [
    {
     "data": {
      "text/plain": [
       "Male      551\n",
       "Female    527\n",
       "Name: gender, dtype: int64"
      ]
     },
     "execution_count": 31,
     "metadata": {},
     "output_type": "execute_result"
    }
   ],
   "source": [
    "claims360.gender.value_counts()"
   ]
  },
  {
   "cell_type": "code",
   "execution_count": 56,
   "id": "92509891",
   "metadata": {},
   "outputs": [
    {
     "name": "stdout",
     "output_type": "stream",
     "text": [
      "mean of male claimed amt:  12884.845110657638 | mean of female claimed amt:  12101.160474551885\n"
     ]
    }
   ],
   "source": [
    "# actual means of claimed amount by males and females\n",
    "male_amt = claims360.loc[ claims360.gender == \"Male\", 'claim_amount' ]\n",
    "female_amt = claims360.loc[ claims360.gender == \"Female\", 'claim_amount' ]\n",
    "\n",
    "print( 'mean of male claimed amt: ', male_amt.mean(), '| mean of female claimed amt: ', female_amt.mean() )"
   ]
  },
  {
   "cell_type": "code",
   "execution_count": 33,
   "id": "5a24d408",
   "metadata": {},
   "outputs": [
    {
     "data": {
      "text/plain": [
       "Ttest_indResult(statistic=0.962509344663214, pvalue=0.33601006135365363)"
      ]
     },
     "execution_count": 33,
     "metadata": {},
     "output_type": "execute_result"
    }
   ],
   "source": [
    "# Using independent sample t-test to find if claim amount varies with gender\n",
    "stats.ttest_ind( male_amt, female_amt )"
   ]
  },
  {
   "cell_type": "raw",
   "id": "068cf47c",
   "metadata": {},
   "source": [
    "Since pvalue > 0.05 and t-statistic < t-critical(1.96), we fail to reject the null hypothesis and conclude that claimed amount is similar for both females and males. "
   ]
  },
  {
   "cell_type": "markdown",
   "id": "b2a0d2a4",
   "metadata": {},
   "source": [
    "### Relationship between age group and segment"
   ]
  },
  {
   "cell_type": "raw",
   "id": "e1a4ba76",
   "metadata": {},
   "source": [
    "Ho - No relationship among the variables\n",
    "Ha - There is a relationship among the variables\n",
    "\n",
    "CI - 95%\n",
    "p - 0.05"
   ]
  },
  {
   "cell_type": "code",
   "execution_count": 34,
   "id": "c27ac05c",
   "metadata": {},
   "outputs": [
    {
     "data": {
      "text/html": [
       "<div>\n",
       "<style scoped>\n",
       "    .dataframe tbody tr th:only-of-type {\n",
       "        vertical-align: middle;\n",
       "    }\n",
       "\n",
       "    .dataframe tbody tr th {\n",
       "        vertical-align: top;\n",
       "    }\n",
       "\n",
       "    .dataframe thead th {\n",
       "        text-align: right;\n",
       "    }\n",
       "</style>\n",
       "<table border=\"1\" class=\"dataframe\">\n",
       "  <thead>\n",
       "    <tr style=\"text-align: right;\">\n",
       "      <th>Segment</th>\n",
       "      <th>Gold</th>\n",
       "      <th>Platinum</th>\n",
       "      <th>Silver</th>\n",
       "    </tr>\n",
       "    <tr>\n",
       "      <th>AgeGrp</th>\n",
       "      <th></th>\n",
       "      <th></th>\n",
       "      <th></th>\n",
       "    </tr>\n",
       "  </thead>\n",
       "  <tbody>\n",
       "    <tr>\n",
       "      <th>Youth</th>\n",
       "      <td>120</td>\n",
       "      <td>129</td>\n",
       "      <td>114</td>\n",
       "    </tr>\n",
       "    <tr>\n",
       "      <th>Adult</th>\n",
       "      <td>251</td>\n",
       "      <td>232</td>\n",
       "      <td>232</td>\n",
       "    </tr>\n",
       "  </tbody>\n",
       "</table>\n",
       "</div>"
      ],
      "text/plain": [
       "Segment  Gold  Platinum  Silver\n",
       "AgeGrp                         \n",
       "Youth     120       129     114\n",
       "Adult     251       232     232"
      ]
     },
     "execution_count": 34,
     "metadata": {},
     "output_type": "execute_result"
    }
   ],
   "source": [
    "# Cross table of AgeGrp and Segment \n",
    "obs_freq = pd.crosstab( claims360.AgeGrp, claims360.Segment )\n",
    "obs_freq"
   ]
  },
  {
   "cell_type": "code",
   "execution_count": 35,
   "id": "977f4b9b",
   "metadata": {},
   "outputs": [
    {
     "data": {
      "text/plain": [
       "(1.061001766401299,\n",
       " 0.5883102211606773,\n",
       " 2,\n",
       " array([[124.92857143, 121.56122449, 116.51020408],\n",
       "        [246.07142857, 239.43877551, 229.48979592]]))"
      ]
     },
     "execution_count": 35,
     "metadata": {},
     "output_type": "execute_result"
    }
   ],
   "source": [
    "# Chi2 test to find relation between two categorical variables\n",
    "stats.chi2_contingency( obs_freq )"
   ]
  },
  {
   "cell_type": "raw",
   "id": "eb4eda65",
   "metadata": {},
   "source": [
    "Since pvalue > 0.05 and chi2-value < critical value (5.991), therefore we fail to reject the null hypothesis and conclude that there is no relation between AgeGrp and Segment."
   ]
  },
  {
   "cell_type": "markdown",
   "id": "cacf090a",
   "metadata": {},
   "source": [
    "### Is there any rise in claim amount compared to 2016-2017 fiscal average of $10000"
   ]
  },
  {
   "cell_type": "raw",
   "id": "6d16b11d",
   "metadata": {},
   "source": [
    "Ho : u1 >= u2, Claim amount for current year = 10000\n",
    "Ha: u1 < u2, Claim amount for current year > 10000\n",
    "\n",
    "CI: 95%\n",
    "pvalue = 0.05"
   ]
  },
  {
   "cell_type": "code",
   "execution_count": 36,
   "id": "64251ebc",
   "metadata": {},
   "outputs": [
    {
     "data": {
      "text/plain": [
       "12743.43753167584"
      ]
     },
     "execution_count": 36,
     "metadata": {},
     "output_type": "execute_result"
    }
   ],
   "source": [
    "# Mean amount in year 2016-2017 = 10000\n",
    "# Mean of amount claimed in current year (2018)\n",
    "claims360.loc[claims360.claim_date.dt.year == 2018, \"claim_amount\"].mean()"
   ]
  },
  {
   "cell_type": "code",
   "execution_count": 37,
   "id": "534569cd",
   "metadata": {},
   "outputs": [
    {
     "data": {
      "text/plain": [
       "Ttest_1sampResult(statistic=4.477343563243788, pvalue=9.435844221983294e-06)"
      ]
     },
     "execution_count": 37,
     "metadata": {},
     "output_type": "execute_result"
    }
   ],
   "source": [
    "# Using 1-sample t-test\n",
    "stats.ttest_1samp( claims360.loc[claims360.claim_date.dt.year == 2018, \"claim_amount\"], 10000.0 )"
   ]
  },
  {
   "cell_type": "raw",
   "id": "09df8890",
   "metadata": {},
   "source": [
    "Since pvalue < 0.05 and t-stats > t-critical(1.645), we reject the null hypothesis and conclude that current year has shown a rise in claim amount as compared to fiscal year 2016-2017."
   ]
  },
  {
   "cell_type": "markdown",
   "id": "bdcb8cbf",
   "metadata": {},
   "source": [
    "### Difference between age groups and insurance claims"
   ]
  },
  {
   "cell_type": "raw",
   "id": "b7181410",
   "metadata": {},
   "source": [
    "Ho - u1 = u2, means are from same population\n",
    "Ha - u1 <> u2, means are from different population\n",
    "\n",
    "CI - 95%\n",
    "pvalue - 0.05"
   ]
  },
  {
   "cell_type": "code",
   "execution_count": 38,
   "id": "65b504f1",
   "metadata": {},
   "outputs": [
    {
     "data": {
      "text/plain": [
       "Adult    715\n",
       "Youth    363\n",
       "Name: AgeGrp, dtype: int64"
      ]
     },
     "execution_count": 38,
     "metadata": {},
     "output_type": "execute_result"
    }
   ],
   "source": [
    "claims360.AgeGrp.value_counts()"
   ]
  },
  {
   "cell_type": "code",
   "execution_count": 39,
   "id": "c82dc906",
   "metadata": {},
   "outputs": [
    {
     "name": "stdout",
     "output_type": "stream",
     "text": [
      "mean Adult: 12889.626277966854 | mean Youth: 11737.681645495606\n"
     ]
    }
   ],
   "source": [
    "# data processing for the test\n",
    "s1 = claims360.loc[ claims360.AgeGrp == \"Adult\", 'claim_amount' ]\n",
    "s2 = claims360.loc[ claims360.AgeGrp == \"Youth\", 'claim_amount' ]\n",
    "    \n",
    "print( 'mean Adult:', s1.mean(), '| mean Youth:', s2.mean())"
   ]
  },
  {
   "cell_type": "code",
   "execution_count": 40,
   "id": "7814e89b",
   "metadata": {},
   "outputs": [
    {
     "data": {
      "text/plain": [
       "Ttest_indResult(statistic=1.338118654716883, pvalue=0.18114046655055735)"
      ]
     },
     "execution_count": 40,
     "metadata": {},
     "output_type": "execute_result"
    }
   ],
   "source": [
    "# Using independent sample t-test\n",
    "stats.ttest_ind( s1, s2 )"
   ]
  },
  {
   "cell_type": "raw",
   "id": "e13c1902",
   "metadata": {},
   "source": [
    "Since pvalue > 0.05 and t-statistic < t-critical(1.96), hence we fail to reject the null hypothesis i.e. there is no difference between age groups and policy claims."
   ]
  },
  {
   "cell_type": "markdown",
   "id": "c0e827ca",
   "metadata": {},
   "source": [
    "### Relationship between total no. of policy claims and claimed amount"
   ]
  },
  {
   "cell_type": "raw",
   "id": "71acfca7",
   "metadata": {},
   "source": [
    "Ho - No relationship between No. of policy claims and Claimed Amount\n",
    "Ha - There is a relationship between No. of policy claims and Claimed Amount\n",
    "\n",
    "CI - 95%\n",
    "pvalue - 0.05"
   ]
  },
  {
   "cell_type": "raw",
   "id": "76bc383f",
   "metadata": {},
   "source": [
    "Since both are numeric type columns, will use pearson rank method of finding correlations."
   ]
  },
  {
   "cell_type": "code",
   "execution_count": 42,
   "id": "2916a944",
   "metadata": {},
   "outputs": [],
   "source": [
    "claims360.total_policy_claims = claims360.total_policy_claims.astype(int)"
   ]
  },
  {
   "cell_type": "code",
   "execution_count": 43,
   "id": "c5352411",
   "metadata": {},
   "outputs": [
    {
     "data": {
      "text/plain": [
       "(-0.022401566777628945, 0.4624932766041746)"
      ]
     },
     "execution_count": 43,
     "metadata": {},
     "output_type": "execute_result"
    }
   ],
   "source": [
    "stats.pearsonr( claims360.claim_amount,claims360.total_policy_claims )"
   ]
  },
  {
   "cell_type": "raw",
   "id": "b39390be",
   "metadata": {},
   "source": [
    "Since pvalue > 0.05 and correlation coefficient is very small and negative, we fail to reject the null hypothesis and can conclude that there is a weak and inverse relationship between the two variables."
   ]
  },
  {
   "cell_type": "raw",
   "id": "45ea520f",
   "metadata": {},
   "source": [
    "                                                 End of Case Study!"
   ]
  }
 ],
 "metadata": {
  "kernelspec": {
   "display_name": "Python 3 (ipykernel)",
   "language": "python",
   "name": "python3"
  },
  "language_info": {
   "codemirror_mode": {
    "name": "ipython",
    "version": 3
   },
   "file_extension": ".py",
   "mimetype": "text/x-python",
   "name": "python",
   "nbconvert_exporter": "python",
   "pygments_lexer": "ipython3",
   "version": "3.9.12"
  }
 },
 "nbformat": 4,
 "nbformat_minor": 5
}
