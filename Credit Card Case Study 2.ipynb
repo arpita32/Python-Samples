{
 "cells": [
  {
   "cell_type": "code",
   "execution_count": 26,
   "id": "3b914255",
   "metadata": {},
   "outputs": [],
   "source": [
    "# Import the packages\n",
    "import pandas as pd\n",
    "import numpy as np\n",
    "import datetime as dt\n",
    "import matplotlib.pyplot as plt"
   ]
  },
  {
   "cell_type": "code",
   "execution_count": 27,
   "id": "a3700f89",
   "metadata": {},
   "outputs": [
    {
     "data": {
      "text/plain": [
       "'C:/Users/Arpita/Desktop/AnalytixLabs_new/Case Studies/Python Case Studies/Case Study 2 Credit Card'"
      ]
     },
     "execution_count": 27,
     "metadata": {},
     "output_type": "execute_result"
    }
   ],
   "source": [
    "# Capture the path of files in a variable\n",
    "filepath = r\"C:\\Users\\Arpita\\Desktop\\AnalytixLabs_new\\Case Studies\\Python Case Studies\\Case Study 2 Credit Card\"\n",
    "filepath.replace(\"\\\\\",\"/\")"
   ]
  },
  {
   "cell_type": "code",
   "execution_count": 28,
   "id": "9ac2fde4",
   "metadata": {},
   "outputs": [],
   "source": [
    "# Read the files\n",
    "Cust = pd.read_csv(filepath + \"/Customer Acqusition.csv\")\n",
    "spend = pd.read_csv(filepath + \"/spend.csv\")\n",
    "repayment = pd.read_csv(filepath + \"/Repayment.csv\")"
   ]
  },
  {
   "cell_type": "code",
   "execution_count": 29,
   "id": "f6373738",
   "metadata": {},
   "outputs": [
    {
     "name": "stdout",
     "output_type": "stream",
     "text": [
      "<class 'pandas.core.frame.DataFrame'>\n",
      "RangeIndex: 100 entries, 0 to 99\n",
      "Data columns (total 8 columns):\n",
      " #   Column    Non-Null Count  Dtype  \n",
      "---  ------    --------------  -----  \n",
      " 0   No        100 non-null    int64  \n",
      " 1   Customer  100 non-null    object \n",
      " 2   Age       100 non-null    int64  \n",
      " 3   City      100 non-null    object \n",
      " 4   Product   100 non-null    object \n",
      " 5   Limit     100 non-null    float64\n",
      " 6   Company   100 non-null    object \n",
      " 7   Segment   100 non-null    object \n",
      "dtypes: float64(1), int64(2), object(5)\n",
      "memory usage: 6.4+ KB\n"
     ]
    }
   ],
   "source": [
    "# Inspect them\n",
    "Cust.info()"
   ]
  },
  {
   "cell_type": "code",
   "execution_count": 30,
   "id": "eb1ae23c",
   "metadata": {},
   "outputs": [
    {
     "name": "stdout",
     "output_type": "stream",
     "text": [
      "<class 'pandas.core.frame.DataFrame'>\n",
      "RangeIndex: 1500 entries, 0 to 1499\n",
      "Data columns (total 5 columns):\n",
      " #   Column    Non-Null Count  Dtype  \n",
      "---  ------    --------------  -----  \n",
      " 0   Sl No:    1500 non-null   int64  \n",
      " 1   Customer  1500 non-null   object \n",
      " 2   Month     1500 non-null   object \n",
      " 3   Type      1500 non-null   object \n",
      " 4   Amount    1500 non-null   float64\n",
      "dtypes: float64(1), int64(1), object(3)\n",
      "memory usage: 58.7+ KB\n"
     ]
    }
   ],
   "source": [
    "spend.info()"
   ]
  },
  {
   "cell_type": "code",
   "execution_count": 31,
   "id": "3f8a2264",
   "metadata": {},
   "outputs": [
    {
     "data": {
      "text/html": [
       "<div>\n",
       "<style scoped>\n",
       "    .dataframe tbody tr th:only-of-type {\n",
       "        vertical-align: middle;\n",
       "    }\n",
       "\n",
       "    .dataframe tbody tr th {\n",
       "        vertical-align: top;\n",
       "    }\n",
       "\n",
       "    .dataframe thead th {\n",
       "        text-align: right;\n",
       "    }\n",
       "</style>\n",
       "<table border=\"1\" class=\"dataframe\">\n",
       "  <thead>\n",
       "    <tr style=\"text-align: right;\">\n",
       "      <th></th>\n",
       "      <th>SL No:</th>\n",
       "      <th>Customer</th>\n",
       "      <th>Month</th>\n",
       "      <th>Amount</th>\n",
       "      <th>Unnamed: 4</th>\n",
       "    </tr>\n",
       "  </thead>\n",
       "  <tbody>\n",
       "    <tr>\n",
       "      <th>1513</th>\n",
       "      <td>NaN</td>\n",
       "      <td>NaN</td>\n",
       "      <td>NaN</td>\n",
       "      <td>NaN</td>\n",
       "      <td>NaN</td>\n",
       "    </tr>\n",
       "    <tr>\n",
       "      <th>1514</th>\n",
       "      <td>NaN</td>\n",
       "      <td>NaN</td>\n",
       "      <td>NaN</td>\n",
       "      <td>NaN</td>\n",
       "      <td>NaN</td>\n",
       "    </tr>\n",
       "    <tr>\n",
       "      <th>1515</th>\n",
       "      <td>NaN</td>\n",
       "      <td>NaN</td>\n",
       "      <td>NaN</td>\n",
       "      <td>NaN</td>\n",
       "      <td>NaN</td>\n",
       "    </tr>\n",
       "    <tr>\n",
       "      <th>1516</th>\n",
       "      <td>NaN</td>\n",
       "      <td>NaN</td>\n",
       "      <td>NaN</td>\n",
       "      <td>NaN</td>\n",
       "      <td>NaN</td>\n",
       "    </tr>\n",
       "    <tr>\n",
       "      <th>1517</th>\n",
       "      <td>NaN</td>\n",
       "      <td>NaN</td>\n",
       "      <td>NaN</td>\n",
       "      <td>NaN</td>\n",
       "      <td>NaN</td>\n",
       "    </tr>\n",
       "    <tr>\n",
       "      <th>1518</th>\n",
       "      <td>NaN</td>\n",
       "      <td>NaN</td>\n",
       "      <td>NaN</td>\n",
       "      <td>NaN</td>\n",
       "      <td>NaN</td>\n",
       "    </tr>\n",
       "    <tr>\n",
       "      <th>1519</th>\n",
       "      <td>NaN</td>\n",
       "      <td>NaN</td>\n",
       "      <td>NaN</td>\n",
       "      <td>NaN</td>\n",
       "      <td>NaN</td>\n",
       "    </tr>\n",
       "    <tr>\n",
       "      <th>1520</th>\n",
       "      <td>NaN</td>\n",
       "      <td>NaN</td>\n",
       "      <td>NaN</td>\n",
       "      <td>NaN</td>\n",
       "      <td>NaN</td>\n",
       "    </tr>\n",
       "    <tr>\n",
       "      <th>1521</th>\n",
       "      <td>NaN</td>\n",
       "      <td>NaN</td>\n",
       "      <td>NaN</td>\n",
       "      <td>NaN</td>\n",
       "      <td>NaN</td>\n",
       "    </tr>\n",
       "    <tr>\n",
       "      <th>1522</th>\n",
       "      <td>NaN</td>\n",
       "      <td>NaN</td>\n",
       "      <td>NaN</td>\n",
       "      <td>NaN</td>\n",
       "      <td>NaN</td>\n",
       "    </tr>\n",
       "  </tbody>\n",
       "</table>\n",
       "</div>"
      ],
      "text/plain": [
       "      SL No: Customer Month  Amount  Unnamed: 4\n",
       "1513     NaN      NaN   NaN     NaN         NaN\n",
       "1514     NaN      NaN   NaN     NaN         NaN\n",
       "1515     NaN      NaN   NaN     NaN         NaN\n",
       "1516     NaN      NaN   NaN     NaN         NaN\n",
       "1517     NaN      NaN   NaN     NaN         NaN\n",
       "1518     NaN      NaN   NaN     NaN         NaN\n",
       "1519     NaN      NaN   NaN     NaN         NaN\n",
       "1520     NaN      NaN   NaN     NaN         NaN\n",
       "1521     NaN      NaN   NaN     NaN         NaN\n",
       "1522     NaN      NaN   NaN     NaN         NaN"
      ]
     },
     "execution_count": 31,
     "metadata": {},
     "output_type": "execute_result"
    }
   ],
   "source": [
    "repayment.tail(10)"
   ]
  },
  {
   "cell_type": "code",
   "execution_count": 32,
   "id": "f6026724",
   "metadata": {},
   "outputs": [],
   "source": [
    "# Remove NAs from the file\n",
    "repayment = repayment.dropna(how = \"all\").dropna(axis = 1, how = \"all\")"
   ]
  },
  {
   "cell_type": "code",
   "execution_count": 33,
   "id": "5d9776af",
   "metadata": {},
   "outputs": [],
   "source": [
    "# Join the datasets\n",
    "cust_spend = pd.merge(left = Cust, right = spend, left_on = \"Customer\", right_on = \"Customer\", how = \"inner\")"
   ]
  },
  {
   "cell_type": "code",
   "execution_count": 34,
   "id": "14f3a458",
   "metadata": {},
   "outputs": [
    {
     "data": {
      "text/html": [
       "<div>\n",
       "<style scoped>\n",
       "    .dataframe tbody tr th:only-of-type {\n",
       "        vertical-align: middle;\n",
       "    }\n",
       "\n",
       "    .dataframe tbody tr th {\n",
       "        vertical-align: top;\n",
       "    }\n",
       "\n",
       "    .dataframe thead th {\n",
       "        text-align: right;\n",
       "    }\n",
       "</style>\n",
       "<table border=\"1\" class=\"dataframe\">\n",
       "  <thead>\n",
       "    <tr style=\"text-align: right;\">\n",
       "      <th></th>\n",
       "      <th>No</th>\n",
       "      <th>Customer</th>\n",
       "      <th>Age</th>\n",
       "      <th>City</th>\n",
       "      <th>Product</th>\n",
       "      <th>Limit</th>\n",
       "      <th>Company</th>\n",
       "      <th>Segment</th>\n",
       "      <th>Sl No:</th>\n",
       "      <th>Month</th>\n",
       "      <th>Type</th>\n",
       "      <th>Amount</th>\n",
       "    </tr>\n",
       "  </thead>\n",
       "  <tbody>\n",
       "    <tr>\n",
       "      <th>0</th>\n",
       "      <td>1</td>\n",
       "      <td>A1</td>\n",
       "      <td>76</td>\n",
       "      <td>BANGALORE</td>\n",
       "      <td>Gold</td>\n",
       "      <td>500000.0</td>\n",
       "      <td>C1</td>\n",
       "      <td>Self Employed</td>\n",
       "      <td>1</td>\n",
       "      <td>12-Jan-04</td>\n",
       "      <td>JEWELLERY</td>\n",
       "      <td>485470.80</td>\n",
       "    </tr>\n",
       "    <tr>\n",
       "      <th>1</th>\n",
       "      <td>1</td>\n",
       "      <td>A1</td>\n",
       "      <td>76</td>\n",
       "      <td>BANGALORE</td>\n",
       "      <td>Gold</td>\n",
       "      <td>500000.0</td>\n",
       "      <td>C1</td>\n",
       "      <td>Self Employed</td>\n",
       "      <td>2</td>\n",
       "      <td>3-Jan-04</td>\n",
       "      <td>PETRO</td>\n",
       "      <td>410556.13</td>\n",
       "    </tr>\n",
       "    <tr>\n",
       "      <th>2</th>\n",
       "      <td>1</td>\n",
       "      <td>A1</td>\n",
       "      <td>76</td>\n",
       "      <td>BANGALORE</td>\n",
       "      <td>Gold</td>\n",
       "      <td>500000.0</td>\n",
       "      <td>C1</td>\n",
       "      <td>Self Employed</td>\n",
       "      <td>3</td>\n",
       "      <td>15-Jan-04</td>\n",
       "      <td>CLOTHES</td>\n",
       "      <td>23740.46</td>\n",
       "    </tr>\n",
       "    <tr>\n",
       "      <th>3</th>\n",
       "      <td>1</td>\n",
       "      <td>A1</td>\n",
       "      <td>76</td>\n",
       "      <td>BANGALORE</td>\n",
       "      <td>Gold</td>\n",
       "      <td>500000.0</td>\n",
       "      <td>C1</td>\n",
       "      <td>Self Employed</td>\n",
       "      <td>4</td>\n",
       "      <td>25-Jan-04</td>\n",
       "      <td>FOOD</td>\n",
       "      <td>484342.47</td>\n",
       "    </tr>\n",
       "    <tr>\n",
       "      <th>4</th>\n",
       "      <td>1</td>\n",
       "      <td>A1</td>\n",
       "      <td>76</td>\n",
       "      <td>BANGALORE</td>\n",
       "      <td>Gold</td>\n",
       "      <td>500000.0</td>\n",
       "      <td>C1</td>\n",
       "      <td>Self Employed</td>\n",
       "      <td>5</td>\n",
       "      <td>17-Jan-05</td>\n",
       "      <td>CAMERA</td>\n",
       "      <td>369694.07</td>\n",
       "    </tr>\n",
       "  </tbody>\n",
       "</table>\n",
       "</div>"
      ],
      "text/plain": [
       "   No Customer  Age       City Product     Limit Company        Segment  \\\n",
       "0   1       A1   76  BANGALORE    Gold  500000.0      C1  Self Employed   \n",
       "1   1       A1   76  BANGALORE    Gold  500000.0      C1  Self Employed   \n",
       "2   1       A1   76  BANGALORE    Gold  500000.0      C1  Self Employed   \n",
       "3   1       A1   76  BANGALORE    Gold  500000.0      C1  Self Employed   \n",
       "4   1       A1   76  BANGALORE    Gold  500000.0      C1  Self Employed   \n",
       "\n",
       "   Sl No:      Month       Type     Amount  \n",
       "0       1  12-Jan-04  JEWELLERY  485470.80  \n",
       "1       2   3-Jan-04      PETRO  410556.13  \n",
       "2       3  15-Jan-04    CLOTHES   23740.46  \n",
       "3       4  25-Jan-04       FOOD  484342.47  \n",
       "4       5  17-Jan-05     CAMERA  369694.07  "
      ]
     },
     "execution_count": 34,
     "metadata": {},
     "output_type": "execute_result"
    }
   ],
   "source": [
    "cust_spend.head()"
   ]
  },
  {
   "cell_type": "code",
   "execution_count": 35,
   "id": "85e042c9",
   "metadata": {},
   "outputs": [],
   "source": [
    "# Form the final dataset for working on it\n",
    "final_data = pd.merge(left = cust_spend, right = repayment, left_on = \"Customer\", right_on = \"Customer\", how = \"inner\", suffixes = (\"_spend\", \"_repay\"))"
   ]
  },
  {
   "cell_type": "code",
   "execution_count": 36,
   "id": "2dbaf18f",
   "metadata": {},
   "outputs": [
    {
     "name": "stdout",
     "output_type": "stream",
     "text": [
      "<class 'pandas.core.frame.DataFrame'>\n",
      "Int64Index: 37284 entries, 0 to 37283\n",
      "Data columns (total 15 columns):\n",
      " #   Column        Non-Null Count  Dtype  \n",
      "---  ------        --------------  -----  \n",
      " 0   No            37284 non-null  int64  \n",
      " 1   Customer      37284 non-null  object \n",
      " 2   Age           37284 non-null  int64  \n",
      " 3   City          37284 non-null  object \n",
      " 4   Product       37284 non-null  object \n",
      " 5   Limit         37284 non-null  float64\n",
      " 6   Company       37284 non-null  object \n",
      " 7   Segment       37284 non-null  object \n",
      " 8   Sl No:        37284 non-null  int64  \n",
      " 9   Month_spend   37284 non-null  object \n",
      " 10  Type          37284 non-null  object \n",
      " 11  Amount_spend  37284 non-null  float64\n",
      " 12  SL No:        37266 non-null  float64\n",
      " 13  Month_repay   37284 non-null  object \n",
      " 14  Amount_repay  37284 non-null  float64\n",
      "dtypes: float64(4), int64(3), object(8)\n",
      "memory usage: 4.6+ MB\n"
     ]
    }
   ],
   "source": [
    "final_data.info()"
   ]
  },
  {
   "cell_type": "code",
   "execution_count": 37,
   "id": "d4626405",
   "metadata": {},
   "outputs": [
    {
     "data": {
      "text/plain": [
       "array(['Gold', 'Silver', 'Platimum'], dtype=object)"
      ]
     },
     "execution_count": 37,
     "metadata": {},
     "output_type": "execute_result"
    }
   ],
   "source": [
    "final_data.Product.unique()"
   ]
  },
  {
   "cell_type": "code",
   "execution_count": 38,
   "id": "155b3c26",
   "metadata": {},
   "outputs": [],
   "source": [
    "final_data.loc[final_data.Product == \"Platimum\", \"Product\"] = \"Platinum\""
   ]
  },
  {
   "cell_type": "code",
   "execution_count": 39,
   "id": "14114d77",
   "metadata": {},
   "outputs": [],
   "source": [
    "# Replacing age < 18 with mean age\n",
    "final_data.loc[final_data.Age < 18, 'Age'] = final_data.Age.mean()"
   ]
  },
  {
   "cell_type": "code",
   "execution_count": 40,
   "id": "03e1fa9c",
   "metadata": {},
   "outputs": [],
   "source": [
    "# Replace amount_spend with 50% of the limit\n",
    "final_data.loc[final_data['Amount_spend'] > final_data.Limit, ['Amount_spend']] = 0.5 * final_data['Limit']"
   ]
  },
  {
   "cell_type": "code",
   "execution_count": 41,
   "id": "4ea4842a",
   "metadata": {},
   "outputs": [],
   "source": [
    "# Replace amount_repay with the limit\n",
    "final_data.loc[final_data['Amount_repay'] > final_data['Limit'], ['Amount_repay']] = final_data['Limit']"
   ]
  },
  {
   "cell_type": "code",
   "execution_count": 42,
   "id": "6bacdbfb",
   "metadata": {},
   "outputs": [
    {
     "data": {
      "text/plain": [
       "100"
      ]
     },
     "execution_count": 42,
     "metadata": {},
     "output_type": "execute_result"
    }
   ],
   "source": [
    "# No. of distinct customers \n",
    "final_data.Customer.nunique()"
   ]
  },
  {
   "cell_type": "code",
   "execution_count": 43,
   "id": "12c93fbf",
   "metadata": {},
   "outputs": [
    {
     "data": {
      "text/plain": [
       "5"
      ]
     },
     "execution_count": 43,
     "metadata": {},
     "output_type": "execute_result"
    }
   ],
   "source": [
    "# No. of distinct categories (corrected)\n",
    "final_data.Segment.nunique()"
   ]
  },
  {
   "cell_type": "code",
   "execution_count": 44,
   "id": "80c4aa5d",
   "metadata": {},
   "outputs": [],
   "source": [
    "# Calculate average monthly spend (corrected)\n",
    "final_data['Mon'] = pd.to_datetime(final_data.Month_spend, format = \"%d-%b-%y\").dt.strftime(\"%B\")"
   ]
  },
  {
   "cell_type": "code",
   "execution_count": 45,
   "id": "69f0231c",
   "metadata": {},
   "outputs": [
    {
     "data": {
      "text/plain": [
       "Mon\n",
       "April        138957\n",
       "August       171892\n",
       "December     114736\n",
       "February     159385\n",
       "January      155942\n",
       "July         172496\n",
       "June         185539\n",
       "March        138588\n",
       "May          161558\n",
       "November     155925\n",
       "October      142427\n",
       "September    154158\n",
       "Name: Amount_spend, dtype: int32"
      ]
     },
     "execution_count": 45,
     "metadata": {},
     "output_type": "execute_result"
    }
   ],
   "source": [
    "final_data.groupby('Mon').Amount_spend.mean().astype(int)"
   ]
  },
  {
   "cell_type": "code",
   "execution_count": 46,
   "id": "8cb3bf29",
   "metadata": {},
   "outputs": [
    {
     "data": {
      "text/plain": [
       "Mon\n",
       "April        158260\n",
       "August       186271\n",
       "December     167746\n",
       "February     182892\n",
       "January      163665\n",
       "July         171493\n",
       "June         182569\n",
       "March        158168\n",
       "May          176682\n",
       "November     173131\n",
       "October      178959\n",
       "September    179590\n",
       "Name: Amount_repay, dtype: int32"
      ]
     },
     "execution_count": 46,
     "metadata": {},
     "output_type": "execute_result"
    }
   ],
   "source": [
    "# Calculate average monthly repayment (corrected)\n",
    "final_data.groupby('Mon').Amount_repay.mean().astype(int)"
   ]
  },
  {
   "cell_type": "code",
   "execution_count": 47,
   "id": "60e2f784",
   "metadata": {},
   "outputs": [],
   "source": [
    "# Profit for the bank for each month \n",
    "# RoI = 2.9%\n",
    "final_data['Monthly_profit'] = final_data.Amount_repay - final_data.Amount_spend"
   ]
  },
  {
   "cell_type": "code",
   "execution_count": 48,
   "id": "eaec7c13",
   "metadata": {},
   "outputs": [],
   "source": [
    "# Replacing negative profit with 0\n",
    "final_data.loc[final_data.Monthly_profit < 0, 'Monthly_profit'] = 0"
   ]
  },
  {
   "cell_type": "code",
   "execution_count": 49,
   "id": "92ed57d7",
   "metadata": {},
   "outputs": [],
   "source": [
    "grp = pd.to_datetime(final_data.Month_spend, format = \"%d-%b-%y\").dt.strftime(\"%b, %Y\")"
   ]
  },
  {
   "cell_type": "code",
   "execution_count": 50,
   "id": "de49ed00",
   "metadata": {},
   "outputs": [
    {
     "data": {
      "text/html": [
       "<div>\n",
       "<style scoped>\n",
       "    .dataframe tbody tr th:only-of-type {\n",
       "        vertical-align: middle;\n",
       "    }\n",
       "\n",
       "    .dataframe tbody tr th {\n",
       "        vertical-align: top;\n",
       "    }\n",
       "\n",
       "    .dataframe thead th {\n",
       "        text-align: right;\n",
       "    }\n",
       "</style>\n",
       "<table border=\"1\" class=\"dataframe\">\n",
       "  <thead>\n",
       "    <tr style=\"text-align: right;\">\n",
       "      <th></th>\n",
       "      <th>Month_spend</th>\n",
       "      <th>Monthly_profit</th>\n",
       "    </tr>\n",
       "  </thead>\n",
       "  <tbody>\n",
       "    <tr>\n",
       "      <th>0</th>\n",
       "      <td>Apr, 2004</td>\n",
       "      <td>1178471</td>\n",
       "    </tr>\n",
       "    <tr>\n",
       "      <th>1</th>\n",
       "      <td>Apr, 2005</td>\n",
       "      <td>1272053</td>\n",
       "    </tr>\n",
       "    <tr>\n",
       "      <th>2</th>\n",
       "      <td>Apr, 2006</td>\n",
       "      <td>4037273</td>\n",
       "    </tr>\n",
       "    <tr>\n",
       "      <th>3</th>\n",
       "      <td>Aug, 2005</td>\n",
       "      <td>1092337</td>\n",
       "    </tr>\n",
       "    <tr>\n",
       "      <th>4</th>\n",
       "      <td>Aug, 2006</td>\n",
       "      <td>955935</td>\n",
       "    </tr>\n",
       "    <tr>\n",
       "      <th>5</th>\n",
       "      <td>Dec, 2005</td>\n",
       "      <td>952489</td>\n",
       "    </tr>\n",
       "    <tr>\n",
       "      <th>6</th>\n",
       "      <td>Dec, 2006</td>\n",
       "      <td>588452</td>\n",
       "    </tr>\n",
       "    <tr>\n",
       "      <th>7</th>\n",
       "      <td>Feb, 2004</td>\n",
       "      <td>1299987</td>\n",
       "    </tr>\n",
       "    <tr>\n",
       "      <th>8</th>\n",
       "      <td>Feb, 2005</td>\n",
       "      <td>9388415</td>\n",
       "    </tr>\n",
       "    <tr>\n",
       "      <th>9</th>\n",
       "      <td>Feb, 2006</td>\n",
       "      <td>1470324</td>\n",
       "    </tr>\n",
       "    <tr>\n",
       "      <th>10</th>\n",
       "      <td>Jan, 2004</td>\n",
       "      <td>12700125</td>\n",
       "    </tr>\n",
       "    <tr>\n",
       "      <th>11</th>\n",
       "      <td>Jan, 2005</td>\n",
       "      <td>627031</td>\n",
       "    </tr>\n",
       "    <tr>\n",
       "      <th>12</th>\n",
       "      <td>Jan, 2006</td>\n",
       "      <td>582647</td>\n",
       "    </tr>\n",
       "    <tr>\n",
       "      <th>13</th>\n",
       "      <td>Jul, 2005</td>\n",
       "      <td>630268</td>\n",
       "    </tr>\n",
       "    <tr>\n",
       "      <th>14</th>\n",
       "      <td>Jul, 2006</td>\n",
       "      <td>1047211</td>\n",
       "    </tr>\n",
       "    <tr>\n",
       "      <th>15</th>\n",
       "      <td>Jun, 2005</td>\n",
       "      <td>1751151</td>\n",
       "    </tr>\n",
       "    <tr>\n",
       "      <th>16</th>\n",
       "      <td>Jun, 2006</td>\n",
       "      <td>674256</td>\n",
       "    </tr>\n",
       "    <tr>\n",
       "      <th>17</th>\n",
       "      <td>Mar, 2004</td>\n",
       "      <td>549890</td>\n",
       "    </tr>\n",
       "    <tr>\n",
       "      <th>18</th>\n",
       "      <td>Mar, 2006</td>\n",
       "      <td>9005232</td>\n",
       "    </tr>\n",
       "    <tr>\n",
       "      <th>19</th>\n",
       "      <td>May, 2004</td>\n",
       "      <td>829402</td>\n",
       "    </tr>\n",
       "    <tr>\n",
       "      <th>20</th>\n",
       "      <td>May, 2005</td>\n",
       "      <td>6585325</td>\n",
       "    </tr>\n",
       "    <tr>\n",
       "      <th>21</th>\n",
       "      <td>May, 2006</td>\n",
       "      <td>2165858</td>\n",
       "    </tr>\n",
       "    <tr>\n",
       "      <th>22</th>\n",
       "      <td>Nov, 2004</td>\n",
       "      <td>743355</td>\n",
       "    </tr>\n",
       "    <tr>\n",
       "      <th>23</th>\n",
       "      <td>Nov, 2005</td>\n",
       "      <td>1557558</td>\n",
       "    </tr>\n",
       "    <tr>\n",
       "      <th>24</th>\n",
       "      <td>Nov, 2006</td>\n",
       "      <td>1580238</td>\n",
       "    </tr>\n",
       "    <tr>\n",
       "      <th>25</th>\n",
       "      <td>Oct, 2005</td>\n",
       "      <td>650309</td>\n",
       "    </tr>\n",
       "    <tr>\n",
       "      <th>26</th>\n",
       "      <td>Oct, 2006</td>\n",
       "      <td>961038</td>\n",
       "    </tr>\n",
       "    <tr>\n",
       "      <th>27</th>\n",
       "      <td>Sep, 2004</td>\n",
       "      <td>534704</td>\n",
       "    </tr>\n",
       "    <tr>\n",
       "      <th>28</th>\n",
       "      <td>Sep, 2005</td>\n",
       "      <td>551323</td>\n",
       "    </tr>\n",
       "    <tr>\n",
       "      <th>29</th>\n",
       "      <td>Sep, 2006</td>\n",
       "      <td>1075466</td>\n",
       "    </tr>\n",
       "  </tbody>\n",
       "</table>\n",
       "</div>"
      ],
      "text/plain": [
       "   Month_spend  Monthly_profit\n",
       "0    Apr, 2004         1178471\n",
       "1    Apr, 2005         1272053\n",
       "2    Apr, 2006         4037273\n",
       "3    Aug, 2005         1092337\n",
       "4    Aug, 2006          955935\n",
       "5    Dec, 2005          952489\n",
       "6    Dec, 2006          588452\n",
       "7    Feb, 2004         1299987\n",
       "8    Feb, 2005         9388415\n",
       "9    Feb, 2006         1470324\n",
       "10   Jan, 2004        12700125\n",
       "11   Jan, 2005          627031\n",
       "12   Jan, 2006          582647\n",
       "13   Jul, 2005          630268\n",
       "14   Jul, 2006         1047211\n",
       "15   Jun, 2005         1751151\n",
       "16   Jun, 2006          674256\n",
       "17   Mar, 2004          549890\n",
       "18   Mar, 2006         9005232\n",
       "19   May, 2004          829402\n",
       "20   May, 2005         6585325\n",
       "21   May, 2006         2165858\n",
       "22   Nov, 2004          743355\n",
       "23   Nov, 2005         1557558\n",
       "24   Nov, 2006         1580238\n",
       "25   Oct, 2005          650309\n",
       "26   Oct, 2006          961038\n",
       "27   Sep, 2004          534704\n",
       "28   Sep, 2005          551323\n",
       "29   Sep, 2006         1075466"
      ]
     },
     "execution_count": 50,
     "metadata": {},
     "output_type": "execute_result"
    }
   ],
   "source": [
    "(final_data.groupby(grp).Monthly_profit.sum() * 0.029).astype(int).reset_index()"
   ]
  },
  {
   "cell_type": "code",
   "execution_count": 51,
   "id": "cdc46f5e",
   "metadata": {},
   "outputs": [
    {
     "data": {
      "text/plain": [
       "Type\n",
       "CAMERA          751701147\n",
       "PETRO           707154852\n",
       "FOOD            547883478\n",
       "AIR TICKET      540117988\n",
       "TRAIN TICKET    534423947\n",
       "Name: Amount_spend, dtype: int32"
      ]
     },
     "execution_count": 51,
     "metadata": {},
     "output_type": "execute_result"
    }
   ],
   "source": [
    "# Top 5 product types\n",
    "final_data.groupby('Type').Amount_spend.sum().astype(int).sort_values(ascending = False)[0:5]"
   ]
  },
  {
   "cell_type": "code",
   "execution_count": 52,
   "id": "3663858f",
   "metadata": {},
   "outputs": [
    {
     "data": {
      "text/plain": [
       "City                COCHIN\n",
       "Amount_spend    1175903212\n",
       "Name: 0, dtype: object"
      ]
     },
     "execution_count": 52,
     "metadata": {},
     "output_type": "execute_result"
    }
   ],
   "source": [
    "# City with maximum spend\n",
    "final_data.groupby('City').Amount_spend.sum().astype(int).sort_values(ascending = False).reset_index().loc[0]"
   ]
  },
  {
   "cell_type": "code",
   "execution_count": 53,
   "id": "f3c49d83",
   "metadata": {},
   "outputs": [],
   "source": [
    "# creating the age groups\n",
    "grp1 = pd.cut( final_data.Age, [19, 27, 40, 60, 80] )"
   ]
  },
  {
   "cell_type": "code",
   "execution_count": 54,
   "id": "c2a0f94a",
   "metadata": {},
   "outputs": [
    {
     "data": {
      "text/plain": [
       "Age               (27, 40]\n",
       "Amount_spend    1783420170\n",
       "Name: 3, dtype: object"
      ]
     },
     "execution_count": 54,
     "metadata": {},
     "output_type": "execute_result"
    }
   ],
   "source": [
    "# Age group having maximum spend\n",
    "final_data.groupby(grp1).Amount_spend.sum().astype(int).sort_values().reset_index().loc[3]"
   ]
  },
  {
   "cell_type": "code",
   "execution_count": 55,
   "id": "6bca7c3e",
   "metadata": {},
   "outputs": [
    {
     "data": {
      "text/plain": [
       "Customer\n",
       "A61    400487430\n",
       "A60    375299048\n",
       "A13    296732020\n",
       "A43    263186015\n",
       "A45    261898380\n",
       "A12    258377564\n",
       "A14    246241327\n",
       "A44    240086633\n",
       "A39    236296982\n",
       "A42    236079286\n",
       "Name: Amount_repay, dtype: int32"
      ]
     },
     "execution_count": 55,
     "metadata": {},
     "output_type": "execute_result"
    }
   ],
   "source": [
    "# Top 10 customers in terms of repayment\n",
    "final_data.groupby(\"Customer\").Amount_repay.sum().astype(int).sort_values(ascending = False).iloc[0:10]"
   ]
  },
  {
   "cell_type": "code",
   "execution_count": 56,
   "id": "c89d2278",
   "metadata": {},
   "outputs": [],
   "source": [
    "# City wise spend on each product on yearly basis\n",
    "final_data['Year'] = pd.to_datetime(final_data.Month_spend, format = \"%d-%b-%y\").dt.strftime(\"%Y\")"
   ]
  },
  {
   "cell_type": "code",
   "execution_count": 57,
   "id": "2ccab608",
   "metadata": {},
   "outputs": [],
   "source": [
    "summ = final_data.pivot_table( index=['Year','City'], columns='Product', values='Amount_spend', aggfunc='mean').astype(int)"
   ]
  },
  {
   "cell_type": "code",
   "execution_count": 58,
   "id": "a1c67d0f",
   "metadata": {},
   "outputs": [
    {
     "data": {
      "text/html": [
       "<div>\n",
       "<style scoped>\n",
       "    .dataframe tbody tr th:only-of-type {\n",
       "        vertical-align: middle;\n",
       "    }\n",
       "\n",
       "    .dataframe tbody tr th {\n",
       "        vertical-align: top;\n",
       "    }\n",
       "\n",
       "    .dataframe thead th {\n",
       "        text-align: right;\n",
       "    }\n",
       "</style>\n",
       "<table border=\"1\" class=\"dataframe\">\n",
       "  <thead>\n",
       "    <tr style=\"text-align: right;\">\n",
       "      <th></th>\n",
       "      <th>Product</th>\n",
       "      <th>Gold</th>\n",
       "      <th>Platinum</th>\n",
       "      <th>Silver</th>\n",
       "    </tr>\n",
       "    <tr>\n",
       "      <th>Year</th>\n",
       "      <th>City</th>\n",
       "      <th></th>\n",
       "      <th></th>\n",
       "      <th></th>\n",
       "    </tr>\n",
       "  </thead>\n",
       "  <tbody>\n",
       "    <tr>\n",
       "      <th rowspan=\"8\" valign=\"top\">2004</th>\n",
       "      <th>BANGALORE</th>\n",
       "      <td>253068</td>\n",
       "      <td>42279</td>\n",
       "      <td>54295</td>\n",
       "    </tr>\n",
       "    <tr>\n",
       "      <th>BOMBAY</th>\n",
       "      <td>297981</td>\n",
       "      <td>42931</td>\n",
       "      <td>48371</td>\n",
       "    </tr>\n",
       "    <tr>\n",
       "      <th>CALCUTTA</th>\n",
       "      <td>230600</td>\n",
       "      <td>110015</td>\n",
       "      <td>50000</td>\n",
       "    </tr>\n",
       "    <tr>\n",
       "      <th>CHENNAI</th>\n",
       "      <td>172380</td>\n",
       "      <td>183141</td>\n",
       "      <td>56803</td>\n",
       "    </tr>\n",
       "    <tr>\n",
       "      <th>COCHIN</th>\n",
       "      <td>214786</td>\n",
       "      <td>99800</td>\n",
       "      <td>51143</td>\n",
       "    </tr>\n",
       "    <tr>\n",
       "      <th>DELHI</th>\n",
       "      <td>209319</td>\n",
       "      <td>47252</td>\n",
       "      <td>48545</td>\n",
       "    </tr>\n",
       "    <tr>\n",
       "      <th>PATNA</th>\n",
       "      <td>301893</td>\n",
       "      <td>371023</td>\n",
       "      <td>47247</td>\n",
       "    </tr>\n",
       "    <tr>\n",
       "      <th>TRIVANDRUM</th>\n",
       "      <td>241510</td>\n",
       "      <td>153705</td>\n",
       "      <td>48966</td>\n",
       "    </tr>\n",
       "    <tr>\n",
       "      <th rowspan=\"8\" valign=\"top\">2005</th>\n",
       "      <th>BANGALORE</th>\n",
       "      <td>221100</td>\n",
       "      <td>32127</td>\n",
       "      <td>47170</td>\n",
       "    </tr>\n",
       "    <tr>\n",
       "      <th>BOMBAY</th>\n",
       "      <td>234503</td>\n",
       "      <td>40932</td>\n",
       "      <td>45911</td>\n",
       "    </tr>\n",
       "    <tr>\n",
       "      <th>CALCUTTA</th>\n",
       "      <td>263316</td>\n",
       "      <td>142031</td>\n",
       "      <td>57363</td>\n",
       "    </tr>\n",
       "    <tr>\n",
       "      <th>CHENNAI</th>\n",
       "      <td>311745</td>\n",
       "      <td>148076</td>\n",
       "      <td>47148</td>\n",
       "    </tr>\n",
       "    <tr>\n",
       "      <th>COCHIN</th>\n",
       "      <td>265527</td>\n",
       "      <td>127220</td>\n",
       "      <td>51124</td>\n",
       "    </tr>\n",
       "    <tr>\n",
       "      <th>DELHI</th>\n",
       "      <td>151661</td>\n",
       "      <td>54906</td>\n",
       "      <td>55010</td>\n",
       "    </tr>\n",
       "    <tr>\n",
       "      <th>PATNA</th>\n",
       "      <td>280113</td>\n",
       "      <td>360403</td>\n",
       "      <td>47927</td>\n",
       "    </tr>\n",
       "    <tr>\n",
       "      <th>TRIVANDRUM</th>\n",
       "      <td>177196</td>\n",
       "      <td>120048</td>\n",
       "      <td>44985</td>\n",
       "    </tr>\n",
       "    <tr>\n",
       "      <th rowspan=\"8\" valign=\"top\">2006</th>\n",
       "      <th>BANGALORE</th>\n",
       "      <td>243441</td>\n",
       "      <td>29877</td>\n",
       "      <td>53274</td>\n",
       "    </tr>\n",
       "    <tr>\n",
       "      <th>BOMBAY</th>\n",
       "      <td>204979</td>\n",
       "      <td>39433</td>\n",
       "      <td>52569</td>\n",
       "    </tr>\n",
       "    <tr>\n",
       "      <th>CALCUTTA</th>\n",
       "      <td>267959</td>\n",
       "      <td>100842</td>\n",
       "      <td>53066</td>\n",
       "    </tr>\n",
       "    <tr>\n",
       "      <th>CHENNAI</th>\n",
       "      <td>235639</td>\n",
       "      <td>162988</td>\n",
       "      <td>50001</td>\n",
       "    </tr>\n",
       "    <tr>\n",
       "      <th>COCHIN</th>\n",
       "      <td>225798</td>\n",
       "      <td>99679</td>\n",
       "      <td>52381</td>\n",
       "    </tr>\n",
       "    <tr>\n",
       "      <th>DELHI</th>\n",
       "      <td>244242</td>\n",
       "      <td>58929</td>\n",
       "      <td>49708</td>\n",
       "    </tr>\n",
       "    <tr>\n",
       "      <th>PATNA</th>\n",
       "      <td>206925</td>\n",
       "      <td>179448</td>\n",
       "      <td>50000</td>\n",
       "    </tr>\n",
       "    <tr>\n",
       "      <th>TRIVANDRUM</th>\n",
       "      <td>273571</td>\n",
       "      <td>119300</td>\n",
       "      <td>50640</td>\n",
       "    </tr>\n",
       "  </tbody>\n",
       "</table>\n",
       "</div>"
      ],
      "text/plain": [
       "Product            Gold  Platinum  Silver\n",
       "Year City                                \n",
       "2004 BANGALORE   253068     42279   54295\n",
       "     BOMBAY      297981     42931   48371\n",
       "     CALCUTTA    230600    110015   50000\n",
       "     CHENNAI     172380    183141   56803\n",
       "     COCHIN      214786     99800   51143\n",
       "     DELHI       209319     47252   48545\n",
       "     PATNA       301893    371023   47247\n",
       "     TRIVANDRUM  241510    153705   48966\n",
       "2005 BANGALORE   221100     32127   47170\n",
       "     BOMBAY      234503     40932   45911\n",
       "     CALCUTTA    263316    142031   57363\n",
       "     CHENNAI     311745    148076   47148\n",
       "     COCHIN      265527    127220   51124\n",
       "     DELHI       151661     54906   55010\n",
       "     PATNA       280113    360403   47927\n",
       "     TRIVANDRUM  177196    120048   44985\n",
       "2006 BANGALORE   243441     29877   53274\n",
       "     BOMBAY      204979     39433   52569\n",
       "     CALCUTTA    267959    100842   53066\n",
       "     CHENNAI     235639    162988   50001\n",
       "     COCHIN      225798     99679   52381\n",
       "     DELHI       244242     58929   49708\n",
       "     PATNA       206925    179448   50000\n",
       "     TRIVANDRUM  273571    119300   50640"
      ]
     },
     "execution_count": 58,
     "metadata": {},
     "output_type": "execute_result"
    }
   ],
   "source": [
    "# Tabular form\n",
    "summ"
   ]
  },
  {
   "cell_type": "code",
   "execution_count": 59,
   "id": "7a52f90b",
   "metadata": {},
   "outputs": [
    {
     "data": {
      "image/png": "[encoded data removed]",
      "text/plain": [
       "<Figure size 1080x360 with 1 Axes>"
      ]
     },
     "metadata": {
      "needs_background": "light"
     },
     "output_type": "display_data"
    }
   ],
   "source": [
    "# Graphical representation of the same\n",
    "summ.plot( kind = 'bar', legend = True, stacked = True, figsize = (15, 5))\n",
    "plt.show()"
   ]
  },
  {
   "cell_type": "code",
   "execution_count": 70,
   "id": "50955572",
   "metadata": {},
   "outputs": [],
   "source": [
    "# Sort the month values in chronological order for better representation\n",
    "sort_order = ['January','February','March','April','May','June','July','August','September','October','November','December']"
   ]
  },
  {
   "cell_type": "code",
   "execution_count": 71,
   "id": "8dbd1b25",
   "metadata": {},
   "outputs": [],
   "source": [
    "final_data['Mon'] = pd.CategoricalIndex(final_data['Mon'], categories = sort_order, ordered = True)"
   ]
  },
  {
   "cell_type": "code",
   "execution_count": 63,
   "id": "cd063966",
   "metadata": {},
   "outputs": [
    {
     "data": {
      "image/png": "[encoded data removed]",
      "text/plain": [
       "<Figure size 1008x432 with 1 Axes>"
      ]
     },
     "metadata": {
      "needs_background": "light"
     },
     "output_type": "display_data"
    }
   ],
   "source": [
    "# Monthly comparision of total spend city wise\n",
    "pd.crosstab(final_data.Mon, final_data.City, values = final_data.Amount_spend, aggfunc=\"mean\").plot(kind = \"bar\", figsize = (14,6), stacked = True)\n",
    "plt.legend(['Bangalore','Bombay','Calcutta','Chennai','Cochin','Delhi','Patna','Trivandrum'], fontsize=\"8\", loc =\"upper right\")\n",
    "plt.show()"
   ]
  },
  {
   "cell_type": "code",
   "execution_count": 64,
   "id": "d809d2e6",
   "metadata": {},
   "outputs": [
    {
     "data": {
      "image/png": "[encoded data removed]",
      "text/plain": [
       "<Figure size 360x360 with 1 Axes>"
      ]
     },
     "metadata": {},
     "output_type": "display_data"
    }
   ],
   "source": [
    "# Comparision of yearly spend on air tickets\n",
    "final_data[final_data.Type == \"AIR TICKET\"].groupby('Year').Amount_spend.mean().plot(kind= \"pie\", figsize = (5,5), colors = ['Gold','LightGreen','DarkGreen'])\n",
    "plt.show()"
   ]
  },
  {
   "cell_type": "code",
   "execution_count": 65,
   "id": "01befd8e",
   "metadata": {},
   "outputs": [
    {
     "data": {
      "image/png": "[encoded data removed]",
      "text/plain": [
       "<Figure size 864x432 with 1 Axes>"
      ]
     },
     "metadata": {
      "needs_background": "light"
     },
     "output_type": "display_data"
    }
   ],
   "source": [
    "# Comparision of monthly spend on each product\n",
    "df = final_data.pivot_table(index = 'Mon', columns = 'Product', values = 'Amount_spend', aggfunc=\"sum\").reset_index()\n",
    "df.plot(figsize = (12,6))\n",
    "plt.xticks( range(0,len(df.Mon)), df.Mon,fontsize=12, rotation = 45)\n",
    "plt.show()"
   ]
  },
  {
   "cell_type": "raw",
   "id": "4550f301",
   "metadata": {},
   "source": [
    "1. For Gold and Platinum products, spend is very high in the beginning of the year, which declines steeply there onwards and then sees some hike in the month of May, thenafter this same trend follows for the rest of the year with next hike in November.\n",
    "2. For Silver product type the spend has been almost same throughout the year with little high in the beginning of the year."
   ]
  },
  {
   "cell_type": "code",
   "execution_count": 66,
   "id": "cb8bd9b9",
   "metadata": {},
   "outputs": [],
   "source": [
    "# Forming month and year variables for repayment\n",
    "final_data['year'] = pd.to_datetime(final_data.Month_repay, format = \"%d-%b-%y\").dt.strftime(\"%Y\")"
   ]
  },
  {
   "cell_type": "code",
   "execution_count": 67,
   "id": "836a3d91",
   "metadata": {},
   "outputs": [],
   "source": [
    "final_data['month'] = pd.to_datetime(final_data.Month_repay, format = \"%d-%b-%y\").dt.strftime(\"%b\")"
   ]
  },
  {
   "cell_type": "code",
   "execution_count": 68,
   "id": "a4321550",
   "metadata": {},
   "outputs": [],
   "source": [
    "# UDF for top 10 customers in each city in terms of repayment by different products and different time periods\n",
    "def top_cust(prod, time_period):\n",
    "    if time_period not in (['year','month']) or prod not in (['Silver','Gold','Platinum']):\n",
    "        print('Please select a valid product type and time period as year or month!')\n",
    "    else:\n",
    "        for city in final_data['City'].unique():\n",
    "            x = final_data[(final_data.Product == prod) & (final_data.City== city)].groupby([time_period, 'City','Customer'])\\\n",
    "            .Amount_repay.mean().reset_index().sort_values(['Amount_repay'], ascending = False).head(10).reset_index()\\\n",
    "            [[time_period, 'City','Customer','Amount_repay']]\n",
    "            print(x)  "
   ]
  },
  {
   "cell_type": "code",
   "execution_count": 69,
   "id": "489b6b5c",
   "metadata": {
    "scrolled": true
   },
   "outputs": [
    {
     "name": "stdout",
     "output_type": "stream",
     "text": [
      "   year       City Customer   Amount_repay\n",
      "0  2005  BANGALORE      A76  265619.050000\n",
      "1  2006  BANGALORE      A59  100003.000000\n",
      "2  2005  BANGALORE      A23  100001.000000\n",
      "3  2004  BANGALORE      A72  100000.000000\n",
      "4  2006  BANGALORE      A18  100000.000000\n",
      "5  2006  BANGALORE      A23   96991.702222\n",
      "6  2004  BANGALORE      A59   96651.071429\n",
      "7  2005  BANGALORE      A18   91185.201429\n",
      "8  2004  BANGALORE      A23   83120.713750\n",
      "9  2004  BANGALORE      A18   81932.118333\n",
      "   year      City Customer   Amount_repay\n",
      "0  2006  CALCUTTA      A87  100003.000000\n",
      "1  2005  CALCUTTA      A73  100001.000000\n",
      "2  2004  CALCUTTA       A2  100000.000000\n",
      "3  2006  CALCUTTA       A2  100000.000000\n",
      "4  2005  CALCUTTA      A58   90028.975000\n",
      "5  2005  CALCUTTA       A2   82054.800000\n",
      "6  2004  CALCUTTA      A58   76259.374286\n",
      "7  2006  CALCUTTA      A58   68606.695000\n",
      "8  2006  CALCUTTA      A78   55344.810000\n",
      "   year    City Customer   Amount_repay\n",
      "0  2006  COCHIN      A79  193230.310000\n",
      "1  2006  COCHIN      A25  100003.000000\n",
      "2  2005  COCHIN      A74  100002.000000\n",
      "3  2004  COCHIN       A7  100001.000000\n",
      "4  2004  COCHIN      A25   98292.260000\n",
      "5  2006  COCHIN       A7   86999.695714\n",
      "6  2005  COCHIN       A7   84435.454000\n",
      "7  2004  COCHIN     A100   69551.190000\n",
      "8  2005  COCHIN      A25   67950.632222\n",
      "   year    City Customer   Amount_repay\n",
      "0  2006  BOMBAY      A80  481205.640000\n",
      "1  2005  BOMBAY      A75  100003.000000\n",
      "2  2005  BOMBAY      A22   95128.567500\n",
      "3  2006  BOMBAY      A22   94527.183000\n",
      "4  2004  BOMBAY      A22   86674.497273\n",
      "   year   City Customer  Amount_repay\n",
      "0  2005  DELHI      A24  98739.248333\n",
      "1  2004  DELHI       A6  91429.025000\n",
      "2  2005  DELHI       A6  85479.636000\n",
      "3  2006  DELHI       A6  84546.751667\n",
      "4  2006  DELHI      A24  79007.613333\n",
      "5  2004  DELHI      A24  66169.088333\n",
      "   year   City Customer   Amount_repay\n",
      "0  2004  PATNA       A8  100002.000000\n",
      "1  2005  PATNA       A8  100002.000000\n",
      "2  2006  PATNA      A84  100000.000000\n",
      "3  2004  PATNA      A46   89201.790000\n",
      "4  2006  PATNA       A8   88635.400000\n",
      "5  2005  PATNA      A46   85902.376154\n",
      "6  2006  PATNA      A46   83922.807000\n",
      "   year     City Customer  Amount_repay\n",
      "0  2005  CHENNAI       A9  100003.00000\n",
      "1  2006  CHENNAI      A85  100001.00000\n",
      "2  2004  CHENNAI      A96  100000.00000\n",
      "3  2006  CHENNAI       A9   87230.66125\n",
      "4  2004  CHENNAI       A9   76038.66800\n",
      "   year        City Customer   Amount_repay\n",
      "0  2006  TRIVANDRUM      A86  100002.000000\n",
      "1  2004  TRIVANDRUM      A57  100001.000000\n",
      "2  2005  TRIVANDRUM      A57  100001.000000\n",
      "3  2004  TRIVANDRUM      A68  100000.000000\n",
      "4  2006  TRIVANDRUM      A68  100000.000000\n",
      "5  2006  TRIVANDRUM      A57   93703.855714\n"
     ]
    }
   ],
   "source": [
    "top_cust( 'Silver','year')"
   ]
  },
  {
   "cell_type": "raw",
   "id": "b877ef43",
   "metadata": {},
   "source": [
    "                                                    End of Case Study"
   ]
  }
 ],
 "metadata": {
  "kernelspec": {
   "display_name": "Python 3 (ipykernel)",
   "language": "python",
   "name": "python3"
  },
  "language_info": {
   "codemirror_mode": {
    "name": "ipython",
    "version": 3
   },
   "file_extension": ".py",
   "mimetype": "text/x-python",
   "name": "python",
   "nbconvert_exporter": "python",
   "pygments_lexer": "ipython3",
   "version": "3.9.12"
  }
 },
 "nbformat": 4,
 "nbformat_minor": 5
}
